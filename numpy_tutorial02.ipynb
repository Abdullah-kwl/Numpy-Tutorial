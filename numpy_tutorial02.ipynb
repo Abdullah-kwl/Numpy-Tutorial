{
 "cells": [
  {
   "cell_type": "markdown",
   "id": "15295f14",
   "metadata": {},
   "source": [
    "# In this tutorial we will learn how to auto-genrate an array"
   ]
  },
  {
   "cell_type": "code",
   "execution_count": 1,
   "id": "11e6bb72",
   "metadata": {},
   "outputs": [
    {
     "data": {
      "text/plain": [
       "array([[0., 0., 0., 0., 0.],\n",
       "       [0., 0., 0., 0., 0.],\n",
       "       [0., 0., 0., 0., 0.],\n",
       "       [0., 0., 0., 0., 0.],\n",
       "       [0., 0., 0., 0., 0.],\n",
       "       [0., 0., 0., 0., 0.],\n",
       "       [0., 0., 0., 0., 0.],\n",
       "       [0., 0., 0., 0., 0.]])"
      ]
     },
     "execution_count": 1,
     "metadata": {},
     "output_type": "execute_result"
    }
   ],
   "source": [
    "import numpy as np\n",
    "zero_ary=np.zeros((8,5))\n",
    "zero_ary"
   ]
  },
  {
   "cell_type": "code",
   "execution_count": 2,
   "id": "2e6e1404",
   "metadata": {},
   "outputs": [
    {
     "data": {
      "text/plain": [
       "40"
      ]
     },
     "execution_count": 2,
     "metadata": {},
     "output_type": "execute_result"
    }
   ],
   "source": [
    "zero_ary.size"
   ]
  },
  {
   "cell_type": "code",
   "execution_count": 3,
   "id": "d7c71376",
   "metadata": {},
   "outputs": [
    {
     "data": {
      "text/plain": [
       "(8, 5)"
      ]
     },
     "execution_count": 3,
     "metadata": {},
     "output_type": "execute_result"
    }
   ],
   "source": [
    "zero_ary.shape"
   ]
  },
  {
   "cell_type": "markdown",
   "id": "bef12670",
   "metadata": {},
   "source": [
    "To creat one dimansional aray \n"
   ]
  },
  {
   "cell_type": "code",
   "execution_count": 4,
   "id": "168d6431",
   "metadata": {},
   "outputs": [
    {
     "data": {
      "text/plain": [
       "array([ 0,  1,  2,  3,  4,  5,  6,  7,  8,  9, 10, 11, 12, 13, 14, 15])"
      ]
     },
     "execution_count": 4,
     "metadata": {},
     "output_type": "execute_result"
    }
   ],
   "source": [
    "range_ary=np.arange(0,16)\n",
    "range_ary"
   ]
  },
  {
   "cell_type": "markdown",
   "id": "db24d320",
   "metadata": {},
   "source": [
    "It will gave me eqaly spaced element of my range"
   ]
  },
  {
   "cell_type": "markdown",
   "id": "7dc09325",
   "metadata": {},
   "source": [
    " np.linspace(start,end,no_of_elements)"
   ]
  },
  {
   "cell_type": "code",
   "execution_count": 5,
   "id": "c3c9576f",
   "metadata": {},
   "outputs": [
    {
     "data": {
      "text/plain": [
       "array([ 1. ,  4.5,  8. , 11.5, 15. ])"
      ]
     },
     "execution_count": 5,
     "metadata": {},
     "output_type": "execute_result"
    }
   ],
   "source": [
    "lins_arry=np.linspace(1,15,5)\n",
    "lins_arry"
   ]
  },
  {
   "cell_type": "code",
   "execution_count": 6,
   "id": "06bad614",
   "metadata": {},
   "outputs": [
    {
     "data": {
      "text/plain": [
       "array([ 1.,  2.,  3.,  4.,  5.,  6.,  7.,  8.,  9., 10.])"
      ]
     },
     "execution_count": 6,
     "metadata": {},
     "output_type": "execute_result"
    }
   ],
   "source": [
    "lins_arry=np.linspace(1,10,10)\n",
    "lins_arry"
   ]
  },
  {
   "cell_type": "code",
   "execution_count": 7,
   "id": "92319276",
   "metadata": {},
   "outputs": [
    {
     "data": {
      "text/plain": [
       "array([ 1.  , 13.25, 25.5 , 37.75, 50.  ])"
      ]
     },
     "execution_count": 7,
     "metadata": {},
     "output_type": "execute_result"
    }
   ],
   "source": [
    "lins_arry=np.linspace(1,50,5)\n",
    "lins_arry"
   ]
  },
  {
   "cell_type": "markdown",
   "id": "a0995eae",
   "metadata": {},
   "source": [
    "array genrate with some items"
   ]
  },
  {
   "cell_type": "code",
   "execution_count": 14,
   "id": "63b24804",
   "metadata": {},
   "outputs": [
    {
     "data": {
      "text/plain": [
       "array([[0., 0., 0., 0., 0.],\n",
       "       [0., 0., 0., 0., 0.],\n",
       "       [0., 0., 0., 0., 0.],\n",
       "       [0., 0., 0., 0., 0.],\n",
       "       [0., 0., 0., 0., 0.],\n",
       "       [0., 0., 0., 0., 0.],\n",
       "       [0., 0., 0., 0., 0.],\n",
       "       [0., 0., 0., 0., 0.]])"
      ]
     },
     "execution_count": 14,
     "metadata": {},
     "output_type": "execute_result"
    }
   ],
   "source": [
    "emp_ary=np.empty((8,5))\n",
    "emp_ary"
   ]
  },
  {
   "cell_type": "markdown",
   "id": "ffdbd440",
   "metadata": {},
   "source": [
    "Genrate an 'Identity' matrix(array)"
   ]
  },
  {
   "cell_type": "code",
   "execution_count": 18,
   "id": "ee09de5f",
   "metadata": {},
   "outputs": [
    {
     "data": {
      "text/plain": [
       "array([[1., 0., 0., 0., 0.],\n",
       "       [0., 1., 0., 0., 0.],\n",
       "       [0., 0., 1., 0., 0.],\n",
       "       [0., 0., 0., 1., 0.],\n",
       "       [0., 0., 0., 0., 1.]])"
      ]
     },
     "execution_count": 18,
     "metadata": {},
     "output_type": "execute_result"
    }
   ],
   "source": [
    "# it takes one argument becos it gave nxn means square array (5x5)\n",
    "identity_ary=np.identity(5)\n",
    "identity_ary"
   ]
  },
  {
   "cell_type": "code",
   "execution_count": 19,
   "id": "5fe197ba",
   "metadata": {},
   "outputs": [
    {
     "data": {
      "text/plain": [
       "(5, 5)"
      ]
     },
     "execution_count": 19,
     "metadata": {},
     "output_type": "execute_result"
    }
   ],
   "source": [
    "identity_ary.shape"
   ]
  },
  {
   "cell_type": "markdown",
   "id": "beee7174",
   "metadata": {},
   "source": [
    "Here we will see how we can reshape an array"
   ]
  },
  {
   "cell_type": "code",
   "execution_count": 20,
   "id": "a99ed72c",
   "metadata": {},
   "outputs": [
    {
     "data": {
      "text/plain": [
       "array([ 0,  1,  2,  3,  4,  5,  6,  7,  8,  9, 10, 11, 12, 13, 14, 15])"
      ]
     },
     "execution_count": 20,
     "metadata": {},
     "output_type": "execute_result"
    }
   ],
   "source": [
    "range_ary=np.arange(0,16)\n",
    "range_ary"
   ]
  },
  {
   "cell_type": "code",
   "execution_count": 24,
   "id": "b62e57eb",
   "metadata": {},
   "outputs": [
    {
     "data": {
      "text/plain": [
       "array([[ 0,  1,  2,  3],\n",
       "       [ 4,  5,  6,  7],\n",
       "       [ 8,  9, 10, 11],\n",
       "       [12, 13, 14, 15]])"
      ]
     },
     "execution_count": 24,
     "metadata": {},
     "output_type": "execute_result"
    }
   ],
   "source": [
    "# total valyues 16 so we could make (4x4),(8x2)\n",
    "range_ary.reshape(4,4)\n"
   ]
  },
  {
   "cell_type": "code",
   "execution_count": 27,
   "id": "8dbf88e9",
   "metadata": {},
   "outputs": [
    {
     "data": {
      "text/plain": [
       "array([[ 0,  1,  2,  3,  4,  5,  6,  7],\n",
       "       [ 8,  9, 10, 11, 12, 13, 14, 15]])"
      ]
     },
     "execution_count": 27,
     "metadata": {},
     "output_type": "execute_result"
    }
   ],
   "source": [
    "reshape_ary=range_ary.reshape(2,8)\n",
    "reshape_ary"
   ]
  },
  {
   "cell_type": "markdown",
   "id": "9f730392",
   "metadata": {},
   "source": [
    "to make multi dimension array into single dimension"
   ]
  },
  {
   "cell_type": "code",
   "execution_count": 29,
   "id": "51f4652b",
   "metadata": {},
   "outputs": [
    {
     "data": {
      "text/plain": [
       "(2, 8)"
      ]
     },
     "execution_count": 29,
     "metadata": {},
     "output_type": "execute_result"
    }
   ],
   "source": [
    "reshape_ary.shape"
   ]
  },
  {
   "cell_type": "code",
   "execution_count": 30,
   "id": "2be5a49c",
   "metadata": {},
   "outputs": [
    {
     "data": {
      "text/plain": [
       "array([ 0,  1,  2,  3,  4,  5,  6,  7,  8,  9, 10, 11, 12, 13, 14, 15])"
      ]
     },
     "execution_count": 30,
     "metadata": {},
     "output_type": "execute_result"
    }
   ],
   "source": [
    "oned_ary=reshape_ary.ravel()\n",
    "oned_ary"
   ]
  },
  {
   "cell_type": "code",
   "execution_count": 31,
   "id": "cce92365",
   "metadata": {},
   "outputs": [
    {
     "data": {
      "text/plain": [
       "(16,)"
      ]
     },
     "execution_count": 31,
     "metadata": {},
     "output_type": "execute_result"
    }
   ],
   "source": [
    "oned_ary.shape"
   ]
  },
  {
   "cell_type": "code",
   "execution_count": null,
   "id": "4e021212",
   "metadata": {},
   "outputs": [],
   "source": []
  }
 ],
 "metadata": {
  "kernelspec": {
   "display_name": "Python 3",
   "language": "python",
   "name": "python3"
  },
  "language_info": {
   "codemirror_mode": {
    "name": "ipython",
    "version": 3
   },
   "file_extension": ".py",
   "mimetype": "text/x-python",
   "name": "python",
   "nbconvert_exporter": "python",
   "pygments_lexer": "ipython3",
   "version": "3.9.2"
  }
 },
 "nbformat": 4,
 "nbformat_minor": 5
}
