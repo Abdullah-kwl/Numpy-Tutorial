{
 "cells": [
  {
   "cell_type": "markdown",
   "id": "c789bc64",
   "metadata": {},
   "source": [
    "We will see some more basic funtions of array"
   ]
  },
  {
   "cell_type": "code",
   "execution_count": 1,
   "id": "a17169a1",
   "metadata": {},
   "outputs": [
    {
     "data": {
      "text/plain": [
       "array([1, 2, 3, 4, 5])"
      ]
     },
     "execution_count": 1,
     "metadata": {},
     "output_type": "execute_result"
    }
   ],
   "source": [
    "import numpy as np\n",
    "\n",
    "\n",
    "ary1=np.array([1,2,3,4,5])\n",
    "ary1"
   ]
  },
  {
   "cell_type": "code",
   "execution_count": 2,
   "id": "d5e3590c",
   "metadata": {},
   "outputs": [
    {
     "data": {
      "text/plain": [
       "1"
      ]
     },
     "execution_count": 2,
     "metadata": {},
     "output_type": "execute_result"
    }
   ],
   "source": [
    "# print the dimension of an array\n",
    "ary1.ndim"
   ]
  },
  {
   "cell_type": "code",
   "execution_count": 3,
   "id": "ecd6581c",
   "metadata": {},
   "outputs": [
    {
     "data": {
      "text/plain": [
       "array([[1, 2, 3, 4, 5],\n",
       "       [6, 7, 5, 6, 8]])"
      ]
     },
     "execution_count": 3,
     "metadata": {},
     "output_type": "execute_result"
    }
   ],
   "source": [
    "ary2=np.array([[1,2,3,4,5],[6,7,5,6,8]])\n",
    "ary2"
   ]
  },
  {
   "cell_type": "code",
   "execution_count": 4,
   "id": "899c99b6",
   "metadata": {},
   "outputs": [
    {
     "data": {
      "text/plain": [
       "2"
      ]
     },
     "execution_count": 4,
     "metadata": {},
     "output_type": "execute_result"
    }
   ],
   "source": [
    "ary2.ndim"
   ]
  },
  {
   "cell_type": "code",
   "execution_count": 5,
   "id": "8b6ba800",
   "metadata": {},
   "outputs": [
    {
     "data": {
      "text/plain": [
       "array([ 0,  1,  2,  3,  4,  5,  6,  7,  8,  9, 10, 11, 12, 13, 14])"
      ]
     },
     "execution_count": 5,
     "metadata": {},
     "output_type": "execute_result"
    }
   ],
   "source": [
    "ary=np.arange(15)\n",
    "ary"
   ]
  },
  {
   "cell_type": "code",
   "execution_count": 6,
   "id": "86e37da0",
   "metadata": {},
   "outputs": [
    {
     "data": {
      "text/plain": [
       "array([[ 0,  1,  2,  3,  4],\n",
       "       [ 5,  6,  7,  8,  9],\n",
       "       [10, 11, 12, 13, 14]])"
      ]
     },
     "execution_count": 6,
     "metadata": {},
     "output_type": "execute_result"
    }
   ],
   "source": [
    "ary.reshape(3,5)"
   ]
  },
  {
   "cell_type": "markdown",
   "id": "1b87001f",
   "metadata": {},
   "source": [
    "we can creat a randome array with our chiced size and dimention or size"
   ]
  },
  {
   "cell_type": "code",
   "execution_count": 7,
   "id": "fd74f61a",
   "metadata": {},
   "outputs": [
    {
     "data": {
      "text/plain": [
       "array([[ 0,  1,  2,  3],\n",
       "       [ 4,  5,  6,  7],\n",
       "       [ 8,  9, 10, 11]])"
      ]
     },
     "execution_count": 7,
     "metadata": {},
     "output_type": "execute_result"
    }
   ],
   "source": [
    "ary=np.arange(12).reshape(3,4)\n",
    "ary"
   ]
  }
 ],
 "metadata": {
  "kernelspec": {
   "display_name": "Python 3",
   "language": "python",
   "name": "python3"
  },
  "language_info": {
   "codemirror_mode": {
    "name": "ipython",
    "version": 3
   },
   "file_extension": ".py",
   "mimetype": "text/x-python",
   "name": "python",
   "nbconvert_exporter": "python",
   "pygments_lexer": "ipython3",
   "version": "3.9.2"
  }
 },
 "nbformat": 4,
 "nbformat_minor": 5
}
