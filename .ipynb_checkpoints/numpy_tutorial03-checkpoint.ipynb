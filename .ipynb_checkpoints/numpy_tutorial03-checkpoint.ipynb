{
 "cells": [
  {
   "cell_type": "markdown",
   "id": "df0a51f8",
   "metadata": {},
   "source": [
    "# in this tutorial we will see how to handle axies in numpy"
   ]
  },
  {
   "cell_type": "markdown",
   "id": "72c5d93f",
   "metadata": {},
   "source": [
    "we have row at axies 0 and coloums at axies 1\n"
   ]
  },
  {
   "cell_type": "code",
   "execution_count": 1,
   "id": "5f9e4c3f",
   "metadata": {},
   "outputs": [
    {
     "data": {
      "text/plain": [
       "array([[ 1,  2,  3,  4],\n",
       "       [ 5,  6,  7,  8],\n",
       "       [ 9, 10, 11, 12]])"
      ]
     },
     "execution_count": 1,
     "metadata": {},
     "output_type": "execute_result"
    }
   ],
   "source": [
    "import numpy as np\n",
    "\n",
    "n=[[1,2,3,4],[5,6,7,8],[9,10,11,12]]\n",
    "\n",
    "ary=np.array(n)\n",
    "ary"
   ]
  },
  {
   "cell_type": "code",
   "execution_count": 2,
   "id": "04a77e3a",
   "metadata": {},
   "outputs": [
    {
     "data": {
      "text/plain": [
       "array([15, 18, 21, 24])"
      ]
     },
     "execution_count": 2,
     "metadata": {},
     "output_type": "execute_result"
    }
   ],
   "source": [
    "# this will sum row wise\n",
    "# row down\n",
    "# add row down wise (vertical row)\n",
    "ary.sum(axis=0)"
   ]
  },
  {
   "cell_type": "code",
   "execution_count": 3,
   "id": "a23effde",
   "metadata": {},
   "outputs": [
    {
     "data": {
      "text/plain": [
       "array([10, 26, 42])"
      ]
     },
     "execution_count": 3,
     "metadata": {},
     "output_type": "execute_result"
    }
   ],
   "source": [
    "# this will column row wise \n",
    "# row right\n",
    "# add row right wise (horizental row)\n",
    "ary.sum(axis=1)"
   ]
  },
  {
   "cell_type": "markdown",
   "id": "745dfa7f",
   "metadata": {},
   "source": [
    "We will transpose an array"
   ]
  },
  {
   "cell_type": "code",
   "execution_count": 4,
   "id": "861c5185",
   "metadata": {},
   "outputs": [
    {
     "data": {
      "text/plain": [
       "array([[ 1,  2,  3,  4],\n",
       "       [ 5,  6,  7,  8],\n",
       "       [ 9, 10, 11, 12]])"
      ]
     },
     "execution_count": 4,
     "metadata": {},
     "output_type": "execute_result"
    }
   ],
   "source": [
    "ary"
   ]
  },
  {
   "cell_type": "code",
   "execution_count": 5,
   "id": "5a509135",
   "metadata": {},
   "outputs": [
    {
     "data": {
      "text/plain": [
       "array([[ 1,  5,  9],\n",
       "       [ 2,  6, 10],\n",
       "       [ 3,  7, 11],\n",
       "       [ 4,  8, 12]])"
      ]
     },
     "execution_count": 5,
     "metadata": {},
     "output_type": "execute_result"
    }
   ],
   "source": [
    "ary.T"
   ]
  },
  {
   "cell_type": "code",
   "execution_count": 6,
   "id": "b754da2f",
   "metadata": {},
   "outputs": [
    {
     "data": {
      "text/plain": [
       "array([ 1,  2,  3,  4,  5,  6,  7,  8,  9, 10, 11, 12])"
      ]
     },
     "execution_count": 6,
     "metadata": {},
     "output_type": "execute_result"
    }
   ],
   "source": [
    "ary.ravel()"
   ]
  },
  {
   "cell_type": "code",
   "execution_count": 7,
   "id": "1d67c9e3",
   "metadata": {},
   "outputs": [
    {
     "data": {
      "text/plain": [
       "<numpy.flatiter at 0x17d77cfd480>"
      ]
     },
     "execution_count": 7,
     "metadata": {},
     "output_type": "execute_result"
    }
   ],
   "source": [
    "ary.flat"
   ]
  },
  {
   "cell_type": "code",
   "execution_count": 8,
   "id": "cc67de60",
   "metadata": {},
   "outputs": [
    {
     "name": "stdout",
     "output_type": "stream",
     "text": [
      "1\n",
      "2\n",
      "3\n",
      "4\n",
      "5\n",
      "6\n",
      "7\n",
      "8\n",
      "9\n",
      "10\n",
      "11\n",
      "12\n"
     ]
    }
   ],
   "source": [
    "for value in ary.flat:\n",
    "    print(value)"
   ]
  },
  {
   "cell_type": "code",
   "execution_count": 9,
   "id": "5eb0248d",
   "metadata": {},
   "outputs": [
    {
     "data": {
      "text/plain": [
       "array([[ 1,  2,  3,  4],\n",
       "       [ 5,  6,  7,  8],\n",
       "       [ 9, 10, 11, 12]])"
      ]
     },
     "execution_count": 9,
     "metadata": {},
     "output_type": "execute_result"
    }
   ],
   "source": [
    "ary"
   ]
  },
  {
   "cell_type": "code",
   "execution_count": 10,
   "id": "26e62206",
   "metadata": {},
   "outputs": [
    {
     "data": {
      "text/plain": [
       "12"
      ]
     },
     "execution_count": 10,
     "metadata": {},
     "output_type": "execute_result"
    }
   ],
   "source": [
    "ary.size"
   ]
  },
  {
   "cell_type": "code",
   "execution_count": 11,
   "id": "308a1466",
   "metadata": {},
   "outputs": [
    {
     "data": {
      "text/plain": [
       "11"
      ]
     },
     "execution_count": 11,
     "metadata": {},
     "output_type": "execute_result"
    }
   ],
   "source": [
    "# return the index at which i have maximum value\n",
    "ary.argmax()"
   ]
  },
  {
   "cell_type": "code",
   "execution_count": 12,
   "id": "044ec506",
   "metadata": {},
   "outputs": [
    {
     "data": {
      "text/plain": [
       "array([[1, 2, 3, 6, 4]])"
      ]
     },
     "execution_count": 12,
     "metadata": {},
     "output_type": "execute_result"
    }
   ],
   "source": [
    "a=[[1,2,3,6,4]]\n",
    "arry=np.array(a)\n",
    "arry"
   ]
  },
  {
   "cell_type": "code",
   "execution_count": 13,
   "id": "4017c435",
   "metadata": {},
   "outputs": [
    {
     "data": {
      "text/plain": [
       "3"
      ]
     },
     "execution_count": 13,
     "metadata": {},
     "output_type": "execute_result"
    }
   ],
   "source": [
    "arry.argmax()\n",
    "# maximum value at index '3' is '6'"
   ]
  }
 ],
 "metadata": {
  "kernelspec": {
   "display_name": "Python 3",
   "language": "python",
   "name": "python3"
  },
  "language_info": {
   "codemirror_mode": {
    "name": "ipython",
    "version": 3
   },
   "file_extension": ".py",
   "mimetype": "text/x-python",
   "name": "python",
   "nbconvert_exporter": "python",
   "pygments_lexer": "ipython3",
   "version": "3.9.2"
  }
 },
 "nbformat": 4,
 "nbformat_minor": 5
}
