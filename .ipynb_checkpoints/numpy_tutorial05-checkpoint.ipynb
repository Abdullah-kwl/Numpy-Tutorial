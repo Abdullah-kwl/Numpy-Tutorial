{
 "cells": [
  {
   "cell_type": "markdown",
   "id": "b8cd95bf",
   "metadata": {},
   "source": [
    "# We will see how to read and write .txt file using numpy"
   ]
  },
  {
   "cell_type": "code",
   "execution_count": 1,
   "id": "771c259e",
   "metadata": {},
   "outputs": [
    {
     "data": {
      "text/plain": [
       "array([[ 1,  2,  3,  4],\n",
       "       [ 5,  6,  7,  8],\n",
       "       [ 9, 10, 11, 12],\n",
       "       [13, 14, 15, 16]])"
      ]
     },
     "execution_count": 1,
     "metadata": {},
     "output_type": "execute_result"
    }
   ],
   "source": [
    "import numpy as np\n",
    "\n",
    "ary=np.array([[1,2,3,4],[5,6,7,8],[9,10,11,12],[13,14,15,16]])\n",
    "ary"
   ]
  },
  {
   "cell_type": "markdown",
   "id": "51cc96ec",
   "metadata": {},
   "source": [
    "Here we will write our data in .txt file"
   ]
  },
  {
   "cell_type": "code",
   "execution_count": 2,
   "id": "a6a9c11b",
   "metadata": {},
   "outputs": [],
   "source": [
    "np.savetxt(\"text.txt\",ary)"
   ]
  },
  {
   "cell_type": "markdown",
   "id": "eac3bcfc",
   "metadata": {},
   "source": [
    "Here we will read our data from .txt file"
   ]
  },
  {
   "cell_type": "code",
   "execution_count": 3,
   "id": "9ccace61",
   "metadata": {},
   "outputs": [
    {
     "name": "stdout",
     "output_type": "stream",
     "text": [
      "[[ 1.  2.  3.  4.]\n",
      " [ 5.  6.  7.  8.]\n",
      " [ 9. 10. 11. 12.]\n",
      " [13. 14. 15. 16.]]\n"
     ]
    }
   ],
   "source": [
    "txt=np.loadtxt(\"text.txt\")\n",
    "print(txt)"
   ]
  }
 ],
 "metadata": {
  "interpreter": {
   "hash": "afb56b98304955ec4ab45be070d78e33672559e66cdccc96a0255687129c57af"
  },
  "kernelspec": {
   "display_name": "Python 3",
   "language": "python",
   "name": "python3"
  },
  "language_info": {
   "codemirror_mode": {
    "name": "ipython",
    "version": 3
   },
   "file_extension": ".py",
   "mimetype": "text/x-python",
   "name": "python",
   "nbconvert_exporter": "python",
   "pygments_lexer": "ipython3",
   "version": "3.9.2"
  }
 },
 "nbformat": 4,
 "nbformat_minor": 5
}
