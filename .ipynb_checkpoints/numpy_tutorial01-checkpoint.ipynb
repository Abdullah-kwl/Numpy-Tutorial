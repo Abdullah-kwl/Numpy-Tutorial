{
 "cells": [
  {
   "cell_type": "markdown",
   "id": "55496ef0",
   "metadata": {},
   "source": [
    "# Starting our NumPy Tutorial"
   ]
  },
  {
   "cell_type": "code",
   "execution_count": 1,
   "id": "1dc84009",
   "metadata": {},
   "outputs": [
    {
     "data": {
      "text/plain": [
       "array([1, 2, 3, 4, 5, 6])"
      ]
     },
     "execution_count": 1,
     "metadata": {},
     "output_type": "execute_result"
    }
   ],
   "source": [
    "import numpy as np\n",
    "myary=np.array([1,2,3,4,5,6])\n",
    "myary"
   ]
  },
  {
   "cell_type": "code",
   "execution_count": 2,
   "id": "86985506",
   "metadata": {},
   "outputs": [
    {
     "name": "stdout",
     "output_type": "stream",
     "text": [
      "1 2 5\n"
     ]
    }
   ],
   "source": [
    "print(myary[0],myary[1],myary[4])"
   ]
  },
  {
   "cell_type": "code",
   "execution_count": 3,
   "id": "802cbe15",
   "metadata": {},
   "outputs": [
    {
     "data": {
      "text/plain": [
       "dtype('int32')"
      ]
     },
     "execution_count": 3,
     "metadata": {},
     "output_type": "execute_result"
    }
   ],
   "source": [
    "myary.dtype"
   ]
  },
  {
   "cell_type": "code",
   "execution_count": 4,
   "id": "fad405a9",
   "metadata": {},
   "outputs": [
    {
     "data": {
      "text/plain": [
       "(6,)"
      ]
     },
     "execution_count": 4,
     "metadata": {},
     "output_type": "execute_result"
    }
   ],
   "source": [
    "# this will gave me the size of array\n",
    "myary.shape"
   ]
  },
  {
   "cell_type": "markdown",
   "id": "a4679bca",
   "metadata": {},
   "source": [
    "Here we will see the 2D array"
   ]
  },
  {
   "cell_type": "code",
   "execution_count": 5,
   "id": "bfcd2750",
   "metadata": {},
   "outputs": [
    {
     "data": {
      "text/plain": [
       "array([[1, 2, 3, 4, 5, 6]])"
      ]
     },
     "execution_count": 5,
     "metadata": {},
     "output_type": "execute_result"
    }
   ],
   "source": [
    "myary2=np.array([[1,2,3,4,5,6]])\n",
    "myary2"
   ]
  },
  {
   "cell_type": "code",
   "execution_count": 6,
   "id": "fdb0aa36",
   "metadata": {},
   "outputs": [
    {
     "data": {
      "text/plain": [
       "array([1, 2, 3, 4, 5, 6])"
      ]
     },
     "execution_count": 6,
     "metadata": {},
     "output_type": "execute_result"
    }
   ],
   "source": [
    "myary2[0]"
   ]
  },
  {
   "cell_type": "code",
   "execution_count": 10,
   "id": "a6b94ba1",
   "metadata": {},
   "outputs": [
    {
     "data": {
      "text/plain": [
       "3"
      ]
     },
     "execution_count": 10,
     "metadata": {},
     "output_type": "execute_result"
    }
   ],
   "source": [
    "#  0 row 2 index\n",
    "myary2[0][2]"
   ]
  },
  {
   "cell_type": "code",
   "execution_count": 12,
   "id": "fef81267",
   "metadata": {},
   "outputs": [
    {
     "data": {
      "text/plain": [
       "3"
      ]
     },
     "execution_count": 12,
     "metadata": {},
     "output_type": "execute_result"
    }
   ],
   "source": [
    "# 2nd method\n",
    "#  0 row 2 index\n",
    "myary2[0,2]"
   ]
  },
  {
   "cell_type": "code",
   "execution_count": 15,
   "id": "f2f1421b",
   "metadata": {},
   "outputs": [
    {
     "data": {
      "text/plain": [
       "(1, 6)"
      ]
     },
     "execution_count": 15,
     "metadata": {},
     "output_type": "execute_result"
    }
   ],
   "source": [
    "# 1 row and 6 coloumns\n",
    "myary2.shape"
   ]
  }
 ],
 "metadata": {
  "kernelspec": {
   "display_name": "Python 3",
   "language": "python",
   "name": "python3"
  },
  "language_info": {
   "codemirror_mode": {
    "name": "ipython",
    "version": 3
   },
   "file_extension": ".py",
   "mimetype": "text/x-python",
   "name": "python",
   "nbconvert_exporter": "python",
   "pygments_lexer": "ipython3",
   "version": "3.9.2"
  }
 },
 "nbformat": 4,
 "nbformat_minor": 5
}
